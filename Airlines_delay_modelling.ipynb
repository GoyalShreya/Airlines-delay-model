{
 "cells": [
  {
   "cell_type": "code",
   "execution_count": 267,
   "id": "88a64195",
   "metadata": {},
   "outputs": [],
   "source": [
    "import pandas as pd\n",
    "import numpy as np\n",
    "import os"
   ]
  },
  {
   "cell_type": "markdown",
   "id": "53539ee9",
   "metadata": {},
   "source": [
    "# Reading flights Data and Adding Delayed Column"
   ]
  },
  {
   "cell_type": "markdown",
   "id": "6c43e9e6",
   "metadata": {},
   "source": [
    "'delayed' column is added according to the logic given, i.,e a flight will be delayed if its arrival delay is 15 or more than 15 minutes.\n",
    "<br>Will try to predict this variable using the exsiting data.\n",
    "<br>To evaluate the model accuracy, will convert the data into 'train' and 'test' adding 'delayed' as stratified column"
   ]
  },
  {
   "cell_type": "code",
   "execution_count": 268,
   "id": "c4c52cdf",
   "metadata": {},
   "outputs": [],
   "source": [
    "\n",
    "\n",
    "flights_df = pd.read_csv('Flight_on_time_HIX.csv')\n",
    "weather_df = pd.read_csv('weather.csv')\n",
    "flights_df['delayed'] = flights_df['Arrival_Delay_Minutes'].apply(lambda x : 1 if x>=15 else 0)\n",
    "\n",
    "from sklearn.model_selection import train_test_split\n",
    "train, test = train_test_split(flights_df, test_size=0.2, stratify=flights_df['delayed'], random_state=0, shuffle=1000)\n",
    "\n",
    "train_y = train['delayed']\n",
    "train_x = train.drop('delayed', axis=1)\n",
    "test_y = test['delayed']\n",
    "test_x = test.drop('delayed', axis=1)"
   ]
  },
  {
   "cell_type": "markdown",
   "id": "3350adef",
   "metadata": {},
   "source": [
    "# Feature Engineering and Data Processing"
   ]
  },
  {
   "cell_type": "markdown",
   "id": "c78053d5",
   "metadata": {},
   "source": [
    "Following Features are added:\n",
    "1. 'Journey time': Actual journey time(minutes) if flight departs at scheduled time.\n",
    "2. 'Left Journey time': Journey time according(minutes) to the Actual departure time of flight.\n",
    "3. 'Airline', 'Plane_ID', 'Origin_Airport', 'Destination_Airport': converted into one hot encoding\n",
    "4. 'Flight_Distance', 'Departure_Delay_Minutes', 'journey_time', 'left_journey_time' : These columns are converted into Numeric and then standardized.\n",
    "\n",
    "Not taking any varaibles of Arrival other than Scheduled Arrival time, because this would be present with us for future data as well."
   ]
  },
  {
   "cell_type": "code",
   "execution_count": 269,
   "id": "0421c2e0",
   "metadata": {},
   "outputs": [],
   "source": [
    "from sklearn.preprocessing import OneHotEncoder\n",
    "import datetime\n",
    "from copy import deepcopy\n",
    "\n",
    "from sklearn.preprocessing import StandardScaler\n",
    "scaler = StandardScaler()\n",
    "\n",
    "\n",
    "def to_datetime(val):\n",
    "    try:\n",
    "        if len(val) < 4:\n",
    "            if len(val)==1:\n",
    "                val =  datetime.time(hour=int(val[0]))\n",
    "            else:\n",
    "                val =  datetime.time(hour=int(val[0]), minute=int(val[1:]))\n",
    "        else:\n",
    "            if int(val[0:2]) == 24:\n",
    "                hour = '00'\n",
    "            else:\n",
    "                hour = val[0:2]\n",
    "            val =  datetime.time(hour=int(hour), minute=int(val[2:4]))\n",
    "        return datetime.datetime.combine(datetime.date.today(), val)\n",
    "    except Exception as e:\n",
    "        print(e)\n",
    "        print(val)\n",
    "    \n",
    "def preprocess(dataset, train_flag=True):\n",
    "    data = deepcopy(dataset)\n",
    "    date_time_cols = ['Scheduled_Departure_Time','Actual_Departure_Time', 'Departure_WheelsOff', 'Scheduled_Arrival_Time']\n",
    "    for col in date_time_cols:\n",
    "        data[col] = data[col].apply(lambda x: to_datetime(str(int(x))))\n",
    "    \n",
    "    data['journey_time'] = data.apply(lambda x: (x['Scheduled_Arrival_Time']-x['Scheduled_Departure_Time']).total_seconds()/60, axis=1)\n",
    "    data['left_journey_time'] = data.apply(lambda x: (x['Scheduled_Arrival_Time']-x['Actual_Departure_Time']).total_seconds()/60, axis=1)\n",
    "    \n",
    "    \n",
    "    object_cols = ['Airline', 'Plane_ID', 'Origin_Airport', 'Destination_Airport']\n",
    "       \n",
    "    numeric_cols = ['Flight_Distance', 'Departure_Delay_Minutes', 'journey_time', 'left_journey_time']\n",
    "    data[numeric_cols] = data[numeric_cols].apply(np.int64)\n",
    "    \n",
    "    all_features = object_cols + numeric_cols\n",
    "    print(all_features)\n",
    "    \n",
    "    data = data[all_features]\n",
    "    return data"
   ]
  },
  {
   "cell_type": "code",
   "execution_count": 270,
   "id": "10e1ff9c",
   "metadata": {},
   "outputs": [
    {
     "name": "stdout",
     "output_type": "stream",
     "text": [
      "['Airline', 'Plane_ID', 'Origin_Airport', 'Destination_Airport', 'Flight_Distance', 'Departure_Delay_Minutes', 'journey_time', 'left_journey_time']\n",
      "['Airline', 'Plane_ID', 'Origin_Airport', 'Destination_Airport', 'Flight_Distance', 'Departure_Delay_Minutes', 'journey_time', 'left_journey_time']\n"
     ]
    }
   ],
   "source": [
    "train_feats = preprocess(train_x)\n",
    "test_feats = preprocess(test_x)"
   ]
  },
  {
   "cell_type": "code",
   "execution_count": 271,
   "id": "8178d1af",
   "metadata": {},
   "outputs": [],
   "source": [
    "from sklearn.impute import SimpleImputer\n",
    "from sklearn.compose import ColumnTransformer\n",
    "from sklearn.pipeline import Pipeline\n",
    "\n",
    "numeric_features = ['Flight_Distance', 'Departure_Delay_Minutes', 'journey_time', 'left_journey_time']\n",
    "numeric_transformer = Pipeline(steps=[\n",
    "    ('imputer', SimpleImputer()),\n",
    "    ('scaler', StandardScaler())])\n",
    "\n",
    "categorical_features = ['Airline', 'Plane_ID', 'Origin_Airport', 'Destination_Airport']\n",
    "categorical_transformer = OneHotEncoder(handle_unknown='ignore')\n",
    "\n",
    "preprocessor = ColumnTransformer(\n",
    "    transformers=[\n",
    "        ('num', numeric_transformer, numeric_features),\n",
    "        ('cat', categorical_transformer, categorical_features)])"
   ]
  },
  {
   "cell_type": "markdown",
   "id": "8754192e",
   "metadata": {},
   "source": [
    "# Trying different Model Classifiers"
   ]
  },
  {
   "cell_type": "code",
   "execution_count": 272,
   "id": "e1edbe39",
   "metadata": {},
   "outputs": [],
   "source": [
    "from sklearn.neural_network import MLPClassifier\n",
    "from sklearn.svm import SVC\n",
    "from sklearn.ensemble import RandomForestClassifier, AdaBoostClassifier, GradientBoostingClassifier"
   ]
  },
  {
   "cell_type": "code",
   "execution_count": 273,
   "id": "8eb07d11",
   "metadata": {},
   "outputs": [],
   "source": [
    "# checking Models\n",
    "names = [\n",
    "    \"SVM\",\n",
    "    \"XGB\",\n",
    "    \"Random Forest\",\n",
    "    \"AdaBoost\"\n",
    "]\n",
    "\n",
    "classifiers = [\n",
    "    SVC(),\n",
    "    GradientBoostingClassifier(),\n",
    "    RandomForestClassifier(),\n",
    "    AdaBoostClassifier()\n",
    "]"
   ]
  },
  {
   "cell_type": "code",
   "execution_count": 274,
   "id": "cf23a4ad",
   "metadata": {},
   "outputs": [],
   "source": [
    "from sklearn.metrics import classification_report\n",
    "def evaluate(model, test_features, test_labels):\n",
    "    predictions = model.predict(test_features)\n",
    "    class_res = classification_report(predictions, test_labels)\n",
    "    print(class_res)\n",
    "    return class_res"
   ]
  },
  {
   "cell_type": "code",
   "execution_count": 275,
   "id": "a2cf77b3",
   "metadata": {},
   "outputs": [
    {
     "name": "stdout",
     "output_type": "stream",
     "text": [
      "\n",
      "============================\n",
      "Training classifier: SVM\n",
      "              precision    recall  f1-score   support\n",
      "\n",
      "           0       0.98      0.92      0.95     11011\n",
      "           1       0.69      0.92      0.79      2123\n",
      "\n",
      "    accuracy                           0.92     13134\n",
      "   macro avg       0.84      0.92      0.87     13134\n",
      "weighted avg       0.94      0.92      0.92     13134\n",
      "\n",
      "\n",
      "============================\n",
      "Training classifier: XGB\n",
      "              precision    recall  f1-score   support\n",
      "\n",
      "           0       0.98      0.92      0.95     11013\n",
      "           1       0.69      0.91      0.78      2121\n",
      "\n",
      "    accuracy                           0.92     13134\n",
      "   macro avg       0.83      0.92      0.87     13134\n",
      "weighted avg       0.93      0.92      0.92     13134\n",
      "\n",
      "\n",
      "============================\n",
      "Training classifier: Random Forest\n",
      "              precision    recall  f1-score   support\n",
      "\n",
      "           0       0.97      0.92      0.95     10898\n",
      "           1       0.69      0.87      0.77      2236\n",
      "\n",
      "    accuracy                           0.91     13134\n",
      "   macro avg       0.83      0.90      0.86     13134\n",
      "weighted avg       0.93      0.91      0.92     13134\n",
      "\n",
      "\n",
      "============================\n",
      "Training classifier: AdaBoost\n",
      "              precision    recall  f1-score   support\n",
      "\n",
      "           0       0.98      0.92      0.95     10976\n",
      "           1       0.69      0.91      0.79      2158\n",
      "\n",
      "    accuracy                           0.92     13134\n",
      "   macro avg       0.84      0.91      0.87     13134\n",
      "weighted avg       0.93      0.92      0.92     13134\n",
      "\n"
     ]
    }
   ],
   "source": [
    "for name, model in zip(names, classifiers):\n",
    "    print(\"\\n============================\")\n",
    "    print(\"Training classifier:\", name)\n",
    "    clf = Pipeline(steps=[('preprocessor', preprocessor),\n",
    "                      ('classifier', model)])\n",
    "\n",
    "    clf.fit(train_feats, train_y)\n",
    "    result = evaluate(clf, test_feats, test_y)"
   ]
  },
  {
   "cell_type": "markdown",
   "id": "2c1b08fc",
   "metadata": {},
   "source": [
    "Most of the models are having around 0.78 F-score for 1 (flight will get delayed) , but we can choose model with high <b> Recall </b> as this model will able to predict more flights which might have the chance of getting delayed.\n",
    "<br> SVM is having the highest recall of 0.92, further RandomSearch and GridSearch could be done to tune the hyperparameters.\n",
    "\n",
    "FurtherMore Weather data can be used too, but I didn't use it as there were not many flight delays due to Weather"
   ]
  },
  {
   "cell_type": "markdown",
   "id": "eed2cdbb",
   "metadata": {},
   "source": [
    "# CA fights departing from HIX"
   ]
  },
  {
   "cell_type": "code",
   "execution_count": 277,
   "id": "6536cbdb",
   "metadata": {},
   "outputs": [],
   "source": [
    "ca_flights = flights_df[(flights_df['Airline']=='CA') & (flights_df['Origin_Airport']=='HIX')]\n",
    "ca_flights.reset_index(drop=False, inplace=True)"
   ]
  },
  {
   "cell_type": "code",
   "execution_count": 278,
   "id": "77a47ce5",
   "metadata": {},
   "outputs": [
    {
     "name": "stderr",
     "output_type": "stream",
     "text": [
      "/tmp/ipykernel_27035/173601824.py:1: SettingWithCopyWarning: \n",
      "A value is trying to be set on a copy of a slice from a DataFrame.\n",
      "Try using .loc[row_indexer,col_indexer] = value instead\n",
      "\n",
      "See the caveats in the documentation: https://pandas.pydata.org/pandas-docs/stable/user_guide/indexing.html#returning-a-view-versus-a-copy\n",
      "  ca_flights['departure_delay'] = ca_flights['Departure_Delay_Minutes'].apply(lambda x : 1 if x>=15 else 0)\n"
     ]
    }
   ],
   "source": [
    "ca_flights['departure_delay'] = ca_flights['Departure_Delay_Minutes'].apply(lambda x : 1 if x>=15 else 0)"
   ]
  },
  {
   "cell_type": "code",
   "execution_count": 279,
   "id": "56c46a31",
   "metadata": {},
   "outputs": [],
   "source": [
    "delayed_ca_flights = ca_flights[ca_flights['delayed']==1]"
   ]
  },
  {
   "cell_type": "code",
   "execution_count": 280,
   "id": "11bded84",
   "metadata": {},
   "outputs": [
    {
     "data": {
      "text/plain": [
       "<AxesSubplot:xlabel='Delay_Reason'>"
      ]
     },
     "execution_count": 280,
     "metadata": {},
     "output_type": "execute_result"
    },
    {
     "data": {
      "image/png": "[encoded data removed]",
      "text/plain": [
       "<Figure size 432x288 with 1 Axes>"
      ]
     },
     "metadata": {
      "needs_background": "light"
     },
     "output_type": "display_data"
    }
   ],
   "source": [
    "delayed_df = delayed_ca_flights.groupby(['Delay_Reason']).apply(len)\n",
    "delayed_df.plot.bar()"
   ]
  },
  {
   "cell_type": "markdown",
   "id": "5fdcc1cf",
   "metadata": {},
   "source": [
    "Majority of the reason of delay here is due to Carrier"
   ]
  },
  {
   "cell_type": "code",
   "execution_count": 281,
   "id": "0f84cc0c",
   "metadata": {},
   "outputs": [
    {
     "data": {
      "text/plain": [
       "NAS             275\n",
       "LateAircraft     12\n",
       "Carrier          10\n",
       "Weather           1\n",
       "Name: Delay_Reason, dtype: int64"
      ]
     },
     "execution_count": 281,
     "metadata": {},
     "output_type": "execute_result"
    }
   ],
   "source": [
    "# In case of Early or Time Departures\n",
    "ca_early_dept = delayed_ca_flights[delayed_ca_flights['departure_delay']==0]\n",
    "ca_early_dept['Delay_Reason'].value_counts()"
   ]
  },
  {
   "cell_type": "markdown",
   "id": "d2a06697",
   "metadata": {},
   "source": [
    "Here, Carrier is the least one affecting the delay instead NAS is the major reason here"
   ]
  },
  {
   "cell_type": "code",
   "execution_count": 284,
   "id": "1c44562f",
   "metadata": {},
   "outputs": [
    {
     "data": {
      "text/plain": [
       "<AxesSubplot:>"
      ]
     },
     "execution_count": 284,
     "metadata": {},
     "output_type": "execute_result"
    },
    {
     "data": {
      "image/png": "[encoded data removed]",
      "text/plain": [
       "<Figure size 432x288 with 1 Axes>"
      ]
     },
     "metadata": {
      "needs_background": "light"
     },
     "output_type": "display_data"
    }
   ],
   "source": [
    "delayed_ca_flights['Flight_Distance'].hist(bins=10)"
   ]
  },
  {
   "cell_type": "markdown",
   "id": "e072a7e7",
   "metadata": {},
   "source": [
    "Large Distance doesn't really play a major role in Flight delay"
   ]
  },
  {
   "cell_type": "code",
   "execution_count": 307,
   "id": "9e996c46",
   "metadata": {},
   "outputs": [],
   "source": [
    "dest_df = pd.DataFrame(delayed_ca_flights.groupby(['Destination_Airport']).apply(len))\n",
    "dest_df.reset_index(inplace=True)\n",
    "dest_df.columns = ['Destination_Airport', 'value']\n",
    "dest_df_filter = dest_df[dest_df['value']>=30].sort_values(by='value')"
   ]
  },
  {
   "cell_type": "code",
   "execution_count": 308,
   "id": "8721c6e8",
   "metadata": {},
   "outputs": [
    {
     "data": {
      "text/plain": [
       "<AxesSubplot:xlabel='Destination_Airport'>"
      ]
     },
     "execution_count": 308,
     "metadata": {},
     "output_type": "execute_result"
    },
    {
     "data": {
      "image/png": "[encoded data removed]",
      "text/plain": [
       "<Figure size 432x288 with 1 Axes>"
      ]
     },
     "metadata": {
      "needs_background": "light"
     },
     "output_type": "display_data"
    }
   ],
   "source": [
    "dest_df_filter.plot.bar(x='Destination_Airport')"
   ]
  },
  {
   "cell_type": "markdown",
   "id": "279de47f",
   "metadata": {},
   "source": [
    "Destination Airports where flights are majorly delayed"
   ]
  },
  {
   "cell_type": "markdown",
   "id": "aaf30761",
   "metadata": {},
   "source": [
    "#### More Analysis could be done around Departure/Arrival Taxi and Wheel off and their impact on Flight delay"
   ]
  },
  {
   "cell_type": "code",
   "execution_count": null,
   "id": "b173da15",
   "metadata": {},
   "outputs": [],
   "source": []
  }
 ],
 "metadata": {
  "kernelspec": {
   "display_name": "Python 3 (ipykernel)",
   "language": "python",
   "name": "python3"
  },
  "language_info": {
   "codemirror_mode": {
    "name": "ipython",
    "version": 3
   },
   "file_extension": ".py",
   "mimetype": "text/x-python",
   "name": "python",
   "nbconvert_exporter": "python",
   "pygments_lexer": "ipython3",
   "version": "3.8.0"
  }
 },
 "nbformat": 4,
 "nbformat_minor": 5
}
